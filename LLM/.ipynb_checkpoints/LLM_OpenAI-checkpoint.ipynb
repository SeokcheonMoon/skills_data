{
 "cells": [
  {
   "cell_type": "code",
   "execution_count": 1,
   "id": "4e7cbbc7-67f0-48a0-aa8a-94230fbdd422",
   "metadata": {},
   "outputs": [],
   "source": [
    "# https://wikidocs.net/231156 -> LLM 구성하기\n",
    "# https://wikidocs.net/196075 -> OpenAI API Key 발급받는법"
   ]
  },
  {
   "cell_type": "code",
   "execution_count": 2,
   "id": "29a3d88c-658a-4521-88c8-1505794b1c32",
   "metadata": {},
   "outputs": [],
   "source": [
    "# # LangChain을 설치하면 langchain-core, langchain-community, langsmith 등이 함께 설치되어 프로젝트 수행에 필수적인 라이브러리들은 한번에 설치됩니다.\n",
    "# !pip install langchain\n",
    "\n",
    "# # GPT-3.5, GPT-4 등 LLM 모델과 기타 보조 도구를 포함\n",
    "# !pip install langchain_openai\n",
    "\n",
    "# # OpenAI 모델이 사용하는 토크나이저(Tokenizer)\n",
    "# !pip install tiktoken"
   ]
  },
  {
   "cell_type": "code",
   "execution_count": null,
   "id": "54ec5849-4743-4bbb-8b28-5cc29a58714d",
   "metadata": {},
   "outputs": [],
   "source": [
    "import os\n",
    "os.environ['OPENAI_API_KEY'] = 'OPENAI_API_KEY'"
   ]
  },
  {
   "cell_type": "code",
   "execution_count": null,
   "id": "a93ce0fd-7520-42d1-b8c8-2925d5a7fd46",
   "metadata": {},
   "outputs": [],
   "source": [
    "import os\n",
    "api_key = os.environ.get('OPENAI_API_KEY')\n",
    "print(api_key)"
   ]
  },
  {
   "cell_type": "code",
   "execution_count": 5,
   "id": "a6c84cc5-708e-4350-b13a-e57e7c49c57d",
   "metadata": {},
   "outputs": [
    {
     "data": {
      "text/plain": [
       "AIMessage(content=\"지구의 자전 주기는 약 24시간입니다. 정확히 말하면, 평균적으로 24시간을 기준으로 하는 '일(24-hour day)'이 자전 주기로 사용됩니다. 하지만 지구가 태양 주위를 공전하는 동안 자전도 함께 이루어지기 때문에, 태양 기준으로는 약 24시간과 4분 정도의 차이가 발생합니다. 이를 보정하여 '항성일'은 약 23시간 56분으로 정의됩니다.\", additional_kwargs={'refusal': None}, response_metadata={'token_usage': {'completion_tokens': 106, 'prompt_tokens': 15, 'total_tokens': 121, 'completion_tokens_details': {'accepted_prediction_tokens': 0, 'audio_tokens': 0, 'reasoning_tokens': 0, 'rejected_prediction_tokens': 0}, 'prompt_tokens_details': {'audio_tokens': 0, 'cached_tokens': 0}}, 'model_name': 'gpt-4o-mini-2024-07-18', 'system_fingerprint': 'fp_129a36352a', 'id': 'chatcmpl-BThhpSGknPgdNfjWMCUjXUzxPXqum', 'service_tier': 'default', 'finish_reason': 'stop', 'logprobs': None}, id='run--8e04e929-7f4d-4eda-b3b6-48b87fd6a03a-0', usage_metadata={'input_tokens': 15, 'output_tokens': 106, 'total_tokens': 121, 'input_token_details': {'audio': 0, 'cache_read': 0}, 'output_token_details': {'audio': 0, 'reasoning': 0}})"
      ]
     },
     "execution_count": 5,
     "metadata": {},
     "output_type": "execute_result"
    }
   ],
   "source": [
    "from langchain_openai import ChatOpenAI\n",
    "\n",
    "# model\n",
    "llm = ChatOpenAI(model=\"gpt-4o-mini\")\n",
    "\n",
    "# chain 실행\n",
    "llm.invoke(\"지구의 자전 주기는?\")"
   ]
  },
  {
   "cell_type": "code",
   "execution_count": 6,
   "id": "df084ed1-013c-4914-aed5-92157e7ad8d3",
   "metadata": {},
   "outputs": [
    {
     "data": {
      "text/plain": [
       "ChatPromptTemplate(input_variables=['input'], input_types={}, partial_variables={}, messages=[HumanMessagePromptTemplate(prompt=PromptTemplate(input_variables=['input'], input_types={}, partial_variables={}, template='You are an expert in astronomy. Answer the question. <Question>: {input}'), additional_kwargs={})])"
      ]
     },
     "execution_count": 6,
     "metadata": {},
     "output_type": "execute_result"
    }
   ],
   "source": [
    "from langchain_core.prompts import ChatPromptTemplate\n",
    "\n",
    "prompt = ChatPromptTemplate.from_template(\"You are an expert in astronomy. Answer the question. <Question>: {input}\")\n",
    "prompt"
   ]
  },
  {
   "cell_type": "code",
   "execution_count": 7,
   "id": "bc3d21a8-b625-4eaa-b4d7-8037898a1d6f",
   "metadata": {},
   "outputs": [
    {
     "data": {
      "text/plain": [
       "AIMessage(content='지구의 자전 주기는 약 24시간입니다. 정확히는 한 번 자전하는 데 약 23.93시간, 즉 23시간 56분 4초가 걸리며, 이를 태양 기준으로 조정하면 평균적으로 24시간이 됩니다. 이 주기의 변화는 지구의 자전축 기울기와 여러 요인들에 의해 영향을 받을 수 있습니다.', additional_kwargs={'refusal': None}, response_metadata={'token_usage': {'completion_tokens': 87, 'prompt_tokens': 29, 'total_tokens': 116, 'completion_tokens_details': {'accepted_prediction_tokens': 0, 'audio_tokens': 0, 'reasoning_tokens': 0, 'rejected_prediction_tokens': 0}, 'prompt_tokens_details': {'audio_tokens': 0, 'cached_tokens': 0}}, 'model_name': 'gpt-4o-mini-2024-07-18', 'system_fingerprint': 'fp_129a36352a', 'id': 'chatcmpl-BThhsNDYu5ESeioaSij2NpzqnNCBp', 'service_tier': 'default', 'finish_reason': 'stop', 'logprobs': None}, id='run--7d520bad-e8ee-4179-bc25-bdf5533ecbf1-0', usage_metadata={'input_tokens': 29, 'output_tokens': 87, 'total_tokens': 116, 'input_token_details': {'audio': 0, 'cache_read': 0}, 'output_token_details': {'audio': 0, 'reasoning': 0}})"
      ]
     },
     "execution_count": 7,
     "metadata": {},
     "output_type": "execute_result"
    }
   ],
   "source": [
    "from langchain_openai import ChatOpenAI\n",
    "llm = ChatOpenAI(model=\"gpt-4o-mini\")\n",
    "\n",
    "# chain 연결 (LCEL)\n",
    "chain = prompt | llm\n",
    "\n",
    "# chain 호출\n",
    "chain.invoke({\"input\": \"지구의 자전 주기는?\"})"
   ]
  },
  {
   "cell_type": "code",
   "execution_count": 8,
   "id": "81fdec30-4f07-46ec-b196-c4ea78a38a4e",
   "metadata": {},
   "outputs": [
    {
     "data": {
      "text/plain": [
       "\"지구의 자전 주기는 약 24시간입니다. 정확히 말하자면, 지구가 한 번 자전하여 동일한 지점에서 다시 태양이 같은 위치에 나타나기까지 걸리는 시간은 약 24시간, 즉 23시간 56분 4초입니다. 이 시간을 '항성일'이라고 부릅니다. 하지만 우리는 태양의 위치를 기준으로 하루를 계산하기 때문에 '태양일'은 약 24시간으로 정의됩니다.\""
      ]
     },
     "execution_count": 8,
     "metadata": {},
     "output_type": "execute_result"
    }
   ],
   "source": [
    "from langchain_openai import ChatOpenAI\n",
    "from langchain_core.prompts import ChatPromptTemplate\n",
    "from langchain_core.output_parsers import StrOutputParser\n",
    "\n",
    "# prompt + model + output parser\n",
    "prompt = ChatPromptTemplate.from_template(\"You are an expert in astronomy. Answer the question. <Question>: {input}\")\n",
    "llm = ChatOpenAI(model=\"gpt-4o-mini\")\n",
    "output_parser = StrOutputParser()\n",
    "\n",
    "# LCEL chaining\n",
    "chain = prompt | llm | output_parser\n",
    "\n",
    "# chain 호출\n",
    "chain.invoke({\"input\": \"지구의 자전 주기는?\"})"
   ]
  },
  {
   "cell_type": "code",
   "execution_count": 9,
   "id": "b01623f3-6947-48e8-8251-f432cf8c4d95",
   "metadata": {},
   "outputs": [
    {
     "name": "stdin",
     "output_type": "stream",
     "text": [
      "전문가 분야를 입력하세요 (예: medicine, AI, law 등):  AI\n",
      "질문을 입력하세요:  ChatGPT 말고 추천할 만한 OpenAI에는 뭐가 있을까?\n"
     ]
    },
    {
     "name": "stdout",
     "output_type": "stream",
     "text": [
      "OpenAI에는 ChatGPT 외에도 여러 유용한 AI 모델과 도구가 있습니다. 그 중 일부를 소개해 드리겠습니다:\n",
      "\n",
      "1. **Codex**: 프로그래밍 코드 작성을 지원하는 AI 모델로, 자연어를 코드로 변환하는 기능이 뛰어납니다. 소프트웨어 개발에 유용하게 사용될 수 있습니다.\n",
      "\n",
      "2. **DALL-E**: 텍스트 설명을 기반으로 이미지를 생성하는 모델입니다. 창의적인 이미지 제작이나 디자인 작업에 도움이 될 수 있습니다.\n",
      "\n",
      "3. **Whisper**: 자동 음성 인식(ASR) 시스템으로, 음성을 텍스트로 변환하는 데 사용됩니다. 다양한 언어와 방언에 대한 지원이 가능합니다.\n",
      "\n",
      "4. **OpenAI API**: 다양한 사용 사례에 맞게 GPT-3 모델을 활용할 수 있는 API로, 개발자들이 쉽게 자신의 애플리케이션에 AI 기능을 통합할 수 있도록 도와줍니다.\n",
      "\n",
      "이 외에도 OpenAI는 연구 및 개발을 지속적으로 진행하고 있으며, 다양한 분야에서 활용 가능한 도구와 모델을 개발하고 있습니다. 필요한 작업이나 프로젝트에 따라 적합한 도구를 선택하면 좋겠습니다.\n"
     ]
    }
   ],
   "source": [
    "from langchain_openai import ChatOpenAI\n",
    "from langchain_core.prompts import ChatPromptTemplate\n",
    "from langchain_core.output_parsers import StrOutputParser\n",
    "\n",
    "# prompt + model + output parser\n",
    "\n",
    "# 전문가 분야와 질문 입력 받기\n",
    "expert_input = input(\"전문가 분야를 입력하세요 (예: medicine, AI, law 등): \")\n",
    "user_input = input(\"질문을 입력하세요: \")\n",
    "\n",
    "# 템플릿 구성 --- LLM에서의 {} 표시는 문자열 변수 : 여기에 값을 채우라는 의미.\n",
    "prompt = ChatPromptTemplate.from_template(\n",
    "    \"You are an expert in {expertise}. Answer the question.\\n<Question>: {question}\"\n",
    ")\n",
    "\n",
    "# 모델 및 출력 파서 구성\n",
    "llm = ChatOpenAI(model=\"gpt-4o-mini\")\n",
    "output_parser = StrOutputParser()\n",
    "\n",
    "# 체인 구성\n",
    "chain = prompt | llm | output_parser\n",
    "\n",
    "# 실행\n",
    "response = chain.invoke({\n",
    "    \"expertise\": expert_input,\n",
    "    \"question\": user_input\n",
    "})\n",
    "\n",
    "print(response)"
   ]
  }
 ],
 "metadata": {
  "kernelspec": {
   "display_name": "Python 3 (ipykernel)",
   "language": "python",
   "name": "python3"
  },
  "language_info": {
   "codemirror_mode": {
    "name": "ipython",
    "version": 3
   },
   "file_extension": ".py",
   "mimetype": "text/x-python",
   "name": "python",
   "nbconvert_exporter": "python",
   "pygments_lexer": "ipython3",
   "version": "3.11.6"
  }
 },
 "nbformat": 4,
 "nbformat_minor": 5
}
