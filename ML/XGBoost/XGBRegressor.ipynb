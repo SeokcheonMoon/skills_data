{
 "cells": [
  {
   "cell_type": "markdown",
   "id": "824c2455-9147-4db3-93c9-deeec5fae0b7",
   "metadata": {},
   "source": [
    "### 모델 훈련"
   ]
  },
  {
   "cell_type": "code",
   "execution_count": null,
   "id": "b37aab9b-a46d-4229-bc22-e57b14a44f37",
   "metadata": {},
   "outputs": [],
   "source": [
    "# XGBoost 모델 import\n",
    "from xgboost import XGBRegressor\n",
    "# XGBRegressor 모델 초기화\n",
    "xgb_model = XGBRegressor(random_state=42, use_label_encoder=False, eval_metric='rmse')\n",
    "# 모델 학습\n",
    "xgb_model.fit(labeled_x_train, labeled_y_train)"
   ]
  },
  {
   "cell_type": "markdown",
   "id": "61e361e1-72e8-44a7-8bbd-234b6fb58779",
   "metadata": {},
   "source": [
    "### 모델 평가"
   ]
  },
  {
   "cell_type": "code",
   "execution_count": null,
   "id": "a27db3bc-017b-4765-82cb-4beab6ee1fd3",
   "metadata": {},
   "outputs": [],
   "source": [
    "labeled_y_test_predict= xgb_model.predict(labeled_x_test)"
   ]
  },
  {
   "cell_type": "code",
   "execution_count": null,
   "id": "39aecdaf-66dc-4269-b251-abd4193ba8a0",
   "metadata": {},
   "outputs": [],
   "source": [
    "# 시험용 데이터 예측률 확인\n",
    "from sklearn.metrics import mean_squared_error\n",
    "from sklearn.metrics import mean_absolute_error\n",
    "from sklearn.metrics import r2_score\n",
    "# 성능 평가\n",
    "mse = mean_squared_error(labeled_y_test, labeled_y_test_predict)\n",
    "rmse = mean_squared_error(labeled_y_test, labeled_y_test_predict, squared=False)\n",
    "mae = mean_absolute_error(labeled_y_test, labeled_y_test_predict)\n",
    "r2 = r2_score(labeled_y_test, labeled_y_test_predict)\n",
    "\n",
    "# 결과 출력\n",
    "print(f\"MSE: {mse}\")\n",
    "print(f\"RMSE: {rmse}\")\n",
    "print(f\"MAE: {mae}\")\n",
    "print(f\"R² 점수: {r2}\")"
   ]
  },
  {
   "cell_type": "markdown",
   "id": "a68d65b0-7462-4c27-b16a-29af4247d033",
   "metadata": {},
   "source": [
    "### 모델 적용"
   ]
  },
  {
   "cell_type": "code",
   "execution_count": null,
   "id": "69ea5b9f-a0c4-4584-b2a9-6fed3f1dab5d",
   "metadata": {},
   "outputs": [],
   "source": [
    "predictions = xgb_model.predict(예측하고자 하는 데이터 셋)\n",
    "print(predictions)"
   ]
  }
 ],
 "metadata": {
  "kernelspec": {
   "display_name": "Python 3 (ipykernel)",
   "language": "python",
   "name": "python3"
  },
  "language_info": {
   "codemirror_mode": {
    "name": "ipython",
    "version": 3
   },
   "file_extension": ".py",
   "mimetype": "text/x-python",
   "name": "python",
   "nbconvert_exporter": "python",
   "pygments_lexer": "ipython3",
   "version": "3.11.6"
  }
 },
 "nbformat": 4,
 "nbformat_minor": 5
}
